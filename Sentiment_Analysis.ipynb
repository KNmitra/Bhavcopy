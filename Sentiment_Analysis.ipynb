{
  "nbformat": 4,
  "nbformat_minor": 0,
  "metadata": {
    "colab": {
      "provenance": [],
      "mount_file_id": "1pLwkoYu6MlLJGNlUqBHe8C9sr7EwrV3r",
      "authorship_tag": "ABX9TyMHHEAk0EEubUEU5FMoJUmZ",
      "include_colab_link": true
    },
    "kernelspec": {
      "name": "python3",
      "display_name": "Python 3"
    },
    "language_info": {
      "name": "python"
    }
  },
  "cells": [
    {
      "cell_type": "markdown",
      "metadata": {
        "id": "view-in-github",
        "colab_type": "text"
      },
      "source": [
        "<a href=\"https://colab.research.google.com/github/KNmitra/Bhavcopy/blob/master/Sentiment_Analysis.ipynb\" target=\"_parent\"><img src=\"https://colab.research.google.com/assets/colab-badge.svg\" alt=\"Open In Colab\"/></a>"
      ]
    },
    {
      "cell_type": "code",
      "execution_count": 53,
      "metadata": {
        "colab": {
          "base_uri": "https://localhost:8080/"
        },
        "id": "4rnGQ3932IA5",
        "outputId": "33301d21-c796-4ef7-f194-cf96bf1321bb"
      },
      "outputs": [
        {
          "output_type": "stream",
          "name": "stdout",
          "text": [
            "Looking in indexes: https://pypi.org/simple, https://us-python.pkg.dev/colab-wheels/public/simple/\n",
            "Requirement already satisfied: bs4 in /usr/local/lib/python3.8/dist-packages (0.0.1)\n",
            "Requirement already satisfied: beautifulsoup4 in /usr/local/lib/python3.8/dist-packages (from bs4) (4.6.3)\n"
          ]
        }
      ],
      "source": [
        "!pip install bs4"
      ]
    },
    {
      "cell_type": "code",
      "source": [
        "!pip install nltk"
      ],
      "metadata": {
        "colab": {
          "base_uri": "https://localhost:8080/"
        },
        "id": "BldKai80IEnO",
        "outputId": "845167c4-86ca-47cb-e84f-2abc0c3da38c"
      },
      "execution_count": 54,
      "outputs": [
        {
          "output_type": "stream",
          "name": "stdout",
          "text": [
            "Looking in indexes: https://pypi.org/simple, https://us-python.pkg.dev/colab-wheels/public/simple/\n",
            "Requirement already satisfied: nltk in /usr/local/lib/python3.8/dist-packages (3.7)\n",
            "Requirement already satisfied: click in /usr/local/lib/python3.8/dist-packages (from nltk) (7.1.2)\n",
            "Requirement already satisfied: tqdm in /usr/local/lib/python3.8/dist-packages (from nltk) (4.64.1)\n",
            "Requirement already satisfied: regex>=2021.8.3 in /usr/local/lib/python3.8/dist-packages (from nltk) (2022.6.2)\n",
            "Requirement already satisfied: joblib in /usr/local/lib/python3.8/dist-packages (from nltk) (1.2.0)\n"
          ]
        }
      ]
    },
    {
      "cell_type": "code",
      "source": [
        "import nltk\n",
        "\n",
        "nltk.download('vader_lexicon')"
      ],
      "metadata": {
        "colab": {
          "base_uri": "https://localhost:8080/"
        },
        "id": "le6YXOPhIflv",
        "outputId": "9f2ab543-da1f-49c1-b863-b1358ad147a0"
      },
      "execution_count": 55,
      "outputs": [
        {
          "output_type": "stream",
          "name": "stderr",
          "text": [
            "[nltk_data] Downloading package vader_lexicon to /root/nltk_data...\n",
            "[nltk_data]   Package vader_lexicon is already up-to-date!\n"
          ]
        },
        {
          "output_type": "execute_result",
          "data": {
            "text/plain": [
              "True"
            ]
          },
          "metadata": {},
          "execution_count": 55
        }
      ]
    },
    {
      "cell_type": "code",
      "source": [
        "\n",
        "from urllib.request import urlopen,Request \n",
        "from bs4 import BeautifulSoup\n",
        "from nltk.sentiment.vader import SentimentIntensityAnalyzer\n",
        "import pandas as pd\n",
        "import datetime as dt\n",
        "import matplotlib.pyplot as plt\n"
      ],
      "metadata": {
        "id": "qaIY1_ie2SaH"
      },
      "execution_count": 56,
      "outputs": []
    },
    {
      "cell_type": "code",
      "source": [
        "finviz_url = 'https://finviz.com/quote.ashx?t='\n",
        "tickers = ['AMZN','FB','AMD']\n",
        "news_tables ={}\n",
        "\n",
        "for ticker in tickers :\n",
        "    url = finviz_url + ticker\n",
        "\n",
        "    req = Request (url = url,headers ={'user-agent':'my-app'})\n",
        "    response = urlopen(req)\n",
        "\n",
        "    #print(response)\n",
        "    html = BeautifulSoup(response,'html')\n",
        "    news_table = html.find(id='news-table')\n",
        "    news_tables[ticker] = news_table\n",
        "    break\n",
        "\"\"\"\n",
        "print(news_tables)\n",
        "\n",
        "amzn_data = news_tables['AMZN']\n",
        "amzn_rows = amzn_data.findAll('tr')\n",
        "#print(amzn_rows)\n",
        "\n",
        "for index,row in enumerate(amzn_rows):\n",
        "    title = row.a.text\n",
        "    timestamp = row.td.text\n",
        "    print(timestamp + \"\" + title)\n",
        "\"\"\"\n",
        "parsed_data = []\n",
        "\n",
        "for ticker, news_table in news_tables.items():\n",
        "    for row in news_table.findAll('tr'):\n",
        "        title = row.a.text\n",
        "        date_data = row.td.text.split(' ')\n",
        "\n",
        "        if len(date_data) == 1:\n",
        "            time =date_data[0]\n",
        "        else:\n",
        "            date = date_data[0]\n",
        "            time = date_data[1]\n",
        "\n",
        "        parsed_data.append([ticker,date,time,title])\n",
        "    \n",
        "    #print(parsed_data)\n",
        "\n",
        "\n",
        "    df = pd.DataFrame(parsed_data,columns =['ticker','date','time','title'])\n",
        "    \n",
        "    vader = SentimentIntensityAnalyzer()\n",
        "    f = lambda title:vader.polarity_scores('title')['compound']\n",
        "    df['compound'] = df['title'].apply(f)\n",
        "\n",
        "    df['date']=pd.to_datetime(df.date).dt.date\n",
        "\n",
        "    plt.figure(figsize=(10,8))\n",
        "\n",
        "    mean_df = df.groupby(['ticker','date']).mean()\n",
        "\n",
        "    mean_df = mean_df.unstack()\n",
        "    mean_df =mean_df.xs('compound',axis = 'columns').transpose()\n",
        "    mean_df.plot(kind='bar')\n",
        "    plt.show()\n",
        "    "
      ],
      "metadata": {
        "colab": {
          "base_uri": "https://localhost:8080/",
          "height": 345
        },
        "id": "NpaWMuMN2nzR",
        "outputId": "61bc33b1-70ed-4d57-c6bb-b8f773d751d5"
      },
      "execution_count": 58,
      "outputs": [
        {
          "output_type": "display_data",
          "data": {
            "text/plain": [
              "<Figure size 720x576 with 0 Axes>"
            ]
          },
          "metadata": {}
        },
        {
          "output_type": "display_data",
          "data": {
            "text/plain": [
              "<Figure size 432x288 with 1 Axes>"
            ],
            "image/png": "[encoded data removed]"
          },
          "metadata": {
            "needs_background": "light"
          }
        }
      ]
    },
    {
      "cell_type": "markdown",
      "source": [
        "# New Section"
      ],
      "metadata": {
        "id": "8hMTcCeXk4ec"
      }
    },
    {
      "cell_type": "code",
      "source": [],
      "metadata": {
        "id": "wb2GdzEk6ZRU"
      },
      "execution_count": null,
      "outputs": []
    }
  ]
}